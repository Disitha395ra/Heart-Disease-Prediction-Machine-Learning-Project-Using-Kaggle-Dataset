{
 "cells": [
  {
   "cell_type": "code",
   "execution_count": 1,
   "id": "912f278c-0375-428b-9fca-b12c75518afd",
   "metadata": {},
   "outputs": [],
   "source": [
    "import pandas as pd\n",
    "import numpy as np\n",
    "import matplotlib.pyplot as plt"
   ]
  },
  {
   "cell_type": "code",
   "execution_count": 2,
   "id": "9cd25da9-aa31-437a-b139-b03ceb6e0c86",
   "metadata": {},
   "outputs": [
    {
     "name": "stdout",
     "output_type": "stream",
     "text": [
      "[[40 'M' 'ATA' ... 'N' 0.0 'Up']\n",
      " [49 'F' 'NAP' ... 'N' 1.0 'Flat']\n",
      " [37 'M' 'ATA' ... 'N' 0.0 'Up']\n",
      " ...\n",
      " [57 'M' 'ASY' ... 'Y' 1.2 'Flat']\n",
      " [57 'F' 'ATA' ... 'N' 0.0 'Flat']\n",
      " [38 'M' 'NAP' ... 'N' 0.0 'Up']]\n"
     ]
    }
   ],
   "source": [
    "dataset = pd.read_csv(r\"C:\\Users\\DELL\\OneDrive\\Desktop\\Heart-Disease\\Heart-Disease-Prediction-Machine-Learning-Project-Using-Kaggle-Dataset\\dataset\\heart.csv\")\n",
    "x = dataset.iloc[:,:-1].values\n",
    "y = dataset.iloc[:,-1].values\n",
    "print(x)"
   ]
  },
  {
   "cell_type": "code",
   "execution_count": 3,
   "id": "9bac725d-eef2-4a2b-81a6-199784dc9ae6",
   "metadata": {},
   "outputs": [
    {
     "name": "stdout",
     "output_type": "stream",
     "text": [
      "Requirement already satisfied: scikit-learn in c:\\python311\\lib\\site-packages (1.7.2)\n",
      "Requirement already satisfied: numpy>=1.22.0 in c:\\python311\\lib\\site-packages (from scikit-learn) (1.26.4)\n",
      "Requirement already satisfied: scipy>=1.8.0 in c:\\python311\\lib\\site-packages (from scikit-learn) (1.13.1)\n",
      "Requirement already satisfied: joblib>=1.2.0 in c:\\python311\\lib\\site-packages (from scikit-learn) (1.5.2)\n",
      "Requirement already satisfied: threadpoolctl>=3.1.0 in c:\\python311\\lib\\site-packages (from scikit-learn) (3.6.0)\n",
      "Note: you may need to restart the kernel to use updated packages.\n"
     ]
    }
   ],
   "source": [
    "pip install scikit-learn"
   ]
  },
  {
   "cell_type": "code",
   "execution_count": 4,
   "id": "7a525774-c282-4b81-83e0-32bdad126313",
   "metadata": {},
   "outputs": [],
   "source": [
    "from sklearn.preprocessing import LabelEncoder\n",
    "le1 = LabelEncoder()\n",
    "le2 = LabelEncoder()\n",
    "le6 = LabelEncoder()\n",
    "le8 = LabelEncoder()\n",
    "le10 = LabelEncoder()\n",
    "x[:,1]=le1.fit_transform(x[:,1])\n",
    "x[:,2]=le2.fit_transform(x[:,2])\n",
    "x[:,6]=le6.fit_transform(x[:,6])\n",
    "x[:,8]=le8.fit_transform(x[:,8])\n",
    "x[:,10]=le10.fit_transform(x[:,10])"
   ]
  },
  {
   "cell_type": "code",
   "execution_count": 5,
   "id": "ae076e63-9100-4592-b264-de1ca7f38486",
   "metadata": {},
   "outputs": [
    {
     "name": "stdout",
     "output_type": "stream",
     "text": [
      "[[40 1 1 ... 0 0.0 2]\n",
      " [49 0 2 ... 0 1.0 1]\n",
      " [37 1 1 ... 0 0.0 2]\n",
      " ...\n",
      " [57 1 0 ... 1 1.2 1]\n",
      " [57 0 1 ... 0 0.0 1]\n",
      " [38 1 2 ... 0 0.0 2]]\n"
     ]
    }
   ],
   "source": [
    "print(x)"
   ]
  },
  {
   "cell_type": "code",
   "execution_count": 6,
   "id": "50099257-676e-4e70-968e-195063a4a49e",
   "metadata": {},
   "outputs": [],
   "source": [
    "from sklearn.model_selection import train_test_split\n",
    "x_train, x_test, y_train, y_test = train_test_split(x,y, test_size=0.2, random_state=0)"
   ]
  },
  {
   "cell_type": "code",
   "execution_count": 7,
   "id": "68a6e26c-307f-4f74-b070-905a6c0b5cb1",
   "metadata": {},
   "outputs": [
    {
     "name": "stdout",
     "output_type": "stream",
     "text": [
      "[[70 1 0 ... 1 2.0 1]\n",
      " [46 1 0 ... 1 1.5 1]\n",
      " [65 0 2 ... 0 0.8 2]\n",
      " ...\n",
      " [57 0 0 ... 0 0.0 2]\n",
      " [64 1 0 ... 1 4.0 0]\n",
      " [47 1 2 ... 0 0.0 2]]\n"
     ]
    }
   ],
   "source": [
    "print(x_train)"
   ]
  },
  {
   "cell_type": "code",
   "execution_count": 8,
   "id": "9427d9ec-dd6c-4e07-bbe7-5296e3fabbcf",
   "metadata": {},
   "outputs": [
    {
     "name": "stdout",
     "output_type": "stream",
     "text": [
      "[[55 1 0 ... 0 0.1 1]\n",
      " [66 1 0 ... 0 0.4 1]\n",
      " [51 1 0 ... 0 0.0 1]\n",
      " ...\n",
      " [52 1 0 ... 0 0.0 2]\n",
      " [37 1 1 ... 0 0.0 2]\n",
      " [53 1 2 ... 1 0.0 1]]\n"
     ]
    }
   ],
   "source": [
    "print(x_test)"
   ]
  },
  {
   "cell_type": "code",
   "execution_count": 9,
   "id": "ac8a0723-2cf4-4ae8-8160-21b60d0973b6",
   "metadata": {},
   "outputs": [],
   "source": [
    "from sklearn.preprocessing import StandardScaler\n",
    "sc = StandardScaler()\n",
    "x_train = sc.fit_transform(x_train)\n",
    "x_test = sc.fit_transform(x_test)"
   ]
  },
  {
   "cell_type": "code",
   "execution_count": 10,
   "id": "48bb03af-9801-47c4-894c-8e3cfc2411c0",
   "metadata": {},
   "outputs": [
    {
     "name": "stdout",
     "output_type": "stream",
     "text": [
      "[[ 1.75354017  0.51740017 -0.82686398 ...  1.19939076  1.0553738\n",
      "  -0.59357258]\n",
      " [-0.81787111  0.51740017 -0.82686398 ...  1.19939076  0.57784676\n",
      "  -0.59357258]\n",
      " [ 1.21782949 -1.93273999  1.27683849 ... -0.83375663 -0.0906911\n",
      "   1.0443307 ]\n",
      " ...\n",
      " [ 0.3606924  -1.93273999 -0.82686398 ... -0.83375663 -0.85473437\n",
      "   1.0443307 ]\n",
      " [ 1.11068735  0.51740017 -0.82686398 ...  1.19939076  2.96548197\n",
      "  -2.23147586]\n",
      " [-0.71072897  0.51740017  1.27683849 ... -0.83375663 -0.85473437\n",
      "   1.0443307 ]]\n"
     ]
    }
   ],
   "source": [
    "print(x_train)"
   ]
  },
  {
   "cell_type": "code",
   "execution_count": null,
   "id": "d875f903-4012-41ff-a0ef-479551b37874",
   "metadata": {},
   "outputs": [],
   "source": []
  }
 ],
 "metadata": {
  "kernelspec": {
   "display_name": "Python 3 (ipykernel)",
   "language": "python",
   "name": "python3"
  },
  "language_info": {
   "codemirror_mode": {
    "name": "ipython",
    "version": 3
   },
   "file_extension": ".py",
   "mimetype": "text/x-python",
   "name": "python",
   "nbconvert_exporter": "python",
   "pygments_lexer": "ipython3",
   "version": "3.11.3"
  }
 },
 "nbformat": 4,
 "nbformat_minor": 5
}
